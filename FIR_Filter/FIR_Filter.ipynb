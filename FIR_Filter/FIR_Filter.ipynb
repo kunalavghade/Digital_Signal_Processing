{
  "nbformat": 4,
  "nbformat_minor": 0,
  "metadata": {
    "colab": {
      "name": "FIR Filter.ipynb",
      "provenance": [],
      "authorship_tag": "ABX9TyOqfzZRu3CQsSz8bqiChw7M",
      "include_colab_link": true
    },
    "kernelspec": {
      "name": "python3",
      "display_name": "Python 3"
    },
    "language_info": {
      "name": "python"
    }
  },
  "cells": [
    {
      "cell_type": "markdown",
      "metadata": {
        "id": "view-in-github",
        "colab_type": "text"
      },
      "source": [
        "<a href=\"https://colab.research.google.com/github/kunalavghade/Digital_Signal_Processing/blob/main/FIR_Filter/FIR_Filter.ipynb\" target=\"_parent\"><img src=\"https://colab.research.google.com/assets/colab-badge.svg\" alt=\"Open In Colab\"/></a>"
      ]
    },
    {
      "cell_type": "code",
      "execution_count": 1,
      "metadata": {
        "id": "OqhO1jINFza5"
      },
      "outputs": [],
      "source": [
        "import numpy as np\n",
        "import matplotlib.pyplot as plt"
      ]
    },
    {
      "cell_type": "code",
      "source": [
        "fc = 2500\n",
        "fs = 20000\n",
        "N = 51\n",
        "M = N"
      ],
      "metadata": {
        "id": "_kuCH_RooPnW"
      },
      "execution_count": 2,
      "outputs": []
    },
    {
      "cell_type": "markdown",
      "source": [
        "## Impuls responce of LPF"
      ],
      "metadata": {
        "id": "KbS3ZHeLoj2a"
      }
    },
    {
      "cell_type": "code",
      "source": [
        "hd = np.zeros(N)\n",
        "p = (M-1)/2\n",
        "for n in range(N):\n",
        "  if n != p:\n",
        "    hd[n] = (np.sin((2*np.pi*fc/fs)*(n-p)))/(np.pi*(n-p))\n",
        "  else:\n",
        "    hd[n] = (2*np.pi*fc/fs)/np.pi\n",
        "\n",
        "print(hd)\n",
        "plt.figure(1)\n",
        "plt.stem(hd,use_line_collection=True)"
      ],
      "metadata": {
        "colab": {
          "base_uri": "https://localhost:8080/",
          "height": 508
        },
        "id": "dZPeiURjoqCm",
        "outputId": "77e3b253-b13d-47bc-806f-849ea1dc3b73"
      },
      "execution_count": 5,
      "outputs": [
        {
          "output_type": "stream",
          "name": "stdout",
          "text": [
            "[ 9.00316316e-03 -9.74542958e-18 -9.78604691e-03 -1.44686312e-02\n",
            " -1.07180514e-02  9.74542958e-18  1.18462673e-02  1.76838826e-02\n",
            "  1.32399458e-02 -9.74542958e-18 -1.50052719e-02 -2.27364204e-02\n",
            " -1.73137753e-02  9.74542958e-18  2.04617345e-02  3.18309886e-02\n",
            "  2.50087866e-02 -9.74542958e-18 -3.21541541e-02 -5.30516477e-02\n",
            " -4.50158158e-02  9.74542958e-18  7.50263597e-02  1.59154943e-01\n",
            "  2.25079079e-01  2.50000000e-01  2.25079079e-01  1.59154943e-01\n",
            "  7.50263597e-02  9.74542958e-18 -4.50158158e-02 -5.30516477e-02\n",
            " -3.21541541e-02 -9.74542958e-18  2.50087866e-02  3.18309886e-02\n",
            "  2.04617345e-02  9.74542958e-18 -1.73137753e-02 -2.27364204e-02\n",
            " -1.50052719e-02 -9.74542958e-18  1.32399458e-02  1.76838826e-02\n",
            "  1.18462673e-02  9.74542958e-18 -1.07180514e-02 -1.44686312e-02\n",
            " -9.78604691e-03 -9.74542958e-18  9.00316316e-03]\n"
          ]
        },
        {
          "output_type": "execute_result",
          "data": {
            "text/plain": [
              "<StemContainer object of 3 artists>"
            ]
          },
          "metadata": {},
          "execution_count": 5
        },
        {
          "output_type": "display_data",
          "data": {
            "text/plain": [
              "<Figure size 432x288 with 1 Axes>"
            ],
            "image/png": "[encoded data removed]"
          },
          "metadata": {
            "needs_background": "light"
          }
        }
      ]
    },
    {
      "cell_type": "code",
      "source": [
        "from scipy import signal\n",
        "import matplotlib.pyplot as plt \n",
        "w =np.zeros(M)"
      ],
      "metadata": {
        "id": "fOy3koUgqKZh"
      },
      "execution_count": 8,
      "outputs": []
    },
    {
      "cell_type": "markdown",
      "source": [
        "## Rectangular window side lobe attenuationn 13db"
      ],
      "metadata": {
        "id": "Vuo8rtgGquAW"
      }
    },
    {
      "cell_type": "code",
      "source": [
        "def Rect():\n",
        "  for n in range(M):\n",
        "    w[n] = 1\n",
        "  print(w)\n",
        "  plt.figure(1)\n",
        "  plt.stem(w,use_line_collection=True)\n",
        "  print(len(w))\n"
      ],
      "metadata": {
        "id": "b5BhFY32qWZr"
      },
      "execution_count": 27,
      "outputs": []
    },
    {
      "cell_type": "markdown",
      "source": [
        "## Bartlett(triangublar) side lobe attenuationn 27db"
      ],
      "metadata": {
        "id": "myjsOqI_rRZ3"
      }
    },
    {
      "cell_type": "code",
      "source": [
        "def Bart():\n",
        "  for n in range(M):\n",
        "    w[n] = 1 - (2*(abs(n-((M-1)/2)))/(M-1))\n",
        "  print(w)\n",
        "  plt.figure(1)\n",
        "  plt.stem(w,use_line_collection=True)\n"
      ],
      "metadata": {
        "id": "X_JmiqZjrj2w"
      },
      "execution_count": 21,
      "outputs": []
    },
    {
      "cell_type": "markdown",
      "source": [
        "## Blackmann side lobe attenuationn 58db"
      ],
      "metadata": {
        "id": "J5j1iiPSsIkl"
      }
    },
    {
      "cell_type": "code",
      "source": [
        "def Black():\n",
        "  for n in range(M):\n",
        "    w[n] = 0.42 - (0.5 * np.cos((2*np.pi*n)/(M-1))) / (0.08 * np.cos((4*np.pi*n)/(M-1)))\n",
        "  print(w)\n",
        "  plt.figure(1)\n",
        "  plt.stem(w,use_line_collection=True)\n"
      ],
      "metadata": {
        "id": "to_0lTl6sXos"
      },
      "execution_count": 22,
      "outputs": []
    },
    {
      "cell_type": "markdown",
      "source": [
        "## Hamming Side lobe attenuation 43db"
      ],
      "metadata": {
        "id": "7DP1esYytTld"
      }
    },
    {
      "cell_type": "code",
      "source": [
        "def Hamm():\n",
        "  for n in range(M):\n",
        "    w[n] = 0.54 - (0.46*np.cos((2*np.pi*n)/(M-1)))\n",
        "  print(w)\n",
        "  plt.figure(1)\n",
        "  plt.stem(w,use_line_collection=True)\n"
      ],
      "metadata": {
        "id": "NJILndRZscJX"
      },
      "execution_count": 23,
      "outputs": []
    },
    {
      "cell_type": "markdown",
      "source": [
        "## Hanning Side lobe attenuation 32db"
      ],
      "metadata": {
        "id": "0NpkMarduFlz"
      }
    },
    {
      "cell_type": "code",
      "source": [
        "def Hann():\n",
        "  for n in range(M):\n",
        "    w[n] = 0.5 - (0.5*np.cos((2*np.pi*n)/(M-1)))\n",
        "  print(w)\n",
        "  plt.figure(1)\n",
        "  plt.stem(w,use_line_collection=True)"
      ],
      "metadata": {
        "id": "3xCdfpZut70l"
      },
      "execution_count": 24,
      "outputs": []
    },
    {
      "cell_type": "code",
      "source": [
        "c = int(input())\n",
        "if c== 1:\n",
        "  Rect()\n",
        "elif c == 2:\n",
        "  Bart()\n",
        "elif c == 3:\n",
        "  Black()\n",
        "elif c== 4:\n",
        "  Hamm()\n",
        "else:\n",
        "  Hann()\n",
        "\n",
        "# low pass filter coefficient and diff window\n",
        "plt.figure(2)\n",
        "w1,h1 =  signal.freqz(w,1)\n",
        "plt.semilogx(w1, 20*np.log10(abs(h1)))\n",
        "plt.ylim(-60,60)\n",
        "\n",
        "h = np.zeros(N)\n",
        "for n in range(1,M-1):\n",
        "  h[n] = hd[n] * w[n]\n",
        "\n",
        "plt.figure(3)\n",
        "plt.stem(h,use_line_collection=True)\n",
        "\n",
        "# h is filter responce \n",
        "\n",
        "plt.figure(4)\n",
        "w2,h2 =  signal.freqz(h,1)\n",
        "plt.semilogx(w1, 20*np.log10(abs(h1)))\n",
        "plt.ylim(-60,60)"
      ],
      "metadata": {
        "colab": {
          "base_uri": "https://localhost:8080/",
          "height": 1000
        },
        "id": "uAoLUWw7wozh",
        "outputId": "bcb88db9-1ecb-4b12-bd2e-1a1143115c05"
      },
      "execution_count": 26,
      "outputs": [
        {
          "output_type": "stream",
          "name": "stdout",
          "text": [
            "2\n",
            "[0.   0.04 0.08 0.12 0.16 0.2  0.24 0.28 0.32 0.36 0.4  0.44 0.48 0.52\n",
            " 0.56 0.6  0.64 0.68 0.72 0.76 0.8  0.84 0.88 0.92 0.96 1.   0.96 0.92\n",
            " 0.88 0.84 0.8  0.76 0.72 0.68 0.64 0.6  0.56 0.52 0.48 0.44 0.4  0.36\n",
            " 0.32 0.28 0.24 0.2  0.16 0.12 0.08 0.04 0.  ]\n"
          ]
        },
        {
          "output_type": "execute_result",
          "data": {
            "text/plain": [
              "(-60.0, 60.0)"
            ]
          },
          "metadata": {},
          "execution_count": 26
        },
        {
          "output_type": "display_data",
          "data": {
            "text/plain": [
              "<Figure size 432x288 with 1 Axes>"
            ],
            "image/png": "[encoded data removed]"
          },
          "metadata": {
            "needs_background": "light"
          }
        },
        {
          "output_type": "display_data",
          "data": {
            "text/plain": [
              "<Figure size 432x288 with 1 Axes>"
            ],
            "image/png": "[encoded data removed]"
          },
          "metadata": {
            "needs_background": "light"
          }
        },
        {
          "output_type": "display_data",
          "data": {
            "text/plain": [
              "<Figure size 432x288 with 1 Axes>"
            ],
            "image/png": "[encoded data removed]"
          },
          "metadata": {
            "needs_background": "light"
          }
        },
        {
          "output_type": "display_data",
          "data": {
            "text/plain": [
              "<Figure size 432x288 with 1 Axes>"
            ],
            "image/png": "[encoded data removed]"
          },
          "metadata": {
            "needs_background": "light"
          }
        }
      ]
    }
  ]
}