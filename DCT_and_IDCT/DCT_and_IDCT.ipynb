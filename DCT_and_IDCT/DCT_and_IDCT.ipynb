{
  "nbformat": 4,
  "nbformat_minor": 0,
  "metadata": {
    "colab": {
      "name": "DCT and IDCT.ipynb",
      "provenance": [],
      "collapsed_sections": [],
      "authorship_tag": "ABX9TyOWunxYDVNzXr5ZGil8KiFi",
      "include_colab_link": true
    },
    "kernelspec": {
      "name": "python3",
      "display_name": "Python 3"
    },
    "language_info": {
      "name": "python"
    }
  },
  "cells": [
    {
      "cell_type": "markdown",
      "metadata": {
        "id": "view-in-github",
        "colab_type": "text"
      },
      "source": [
        "<a href=\"https://colab.research.google.com/github/kunalavghade/Digital_Signal_Processing/blob/main/DCT_and_IDCT/DCT_and_IDCT.ipynb\" target=\"_parent\"><img src=\"https://colab.research.google.com/assets/colab-badge.svg\" alt=\"Open In Colab\"/></a>"
      ]
    },
    {
      "cell_type": "markdown",
      "source": [
        "# **Exp3 : DCT and IDCT**\n",
        "\n",
        "**Name : Kunal Pravin Avghade**\n",
        "\n",
        "**Roll No : 313057**\n",
        "\n",
        "**Gr No : 22020031**\n",
        "\n",
        "**Batch : C3**"
      ],
      "metadata": {
        "id": "fXEEsgwWk4sL"
      }
    },
    {
      "cell_type": "code",
      "source": [
        "import numpy as np"
      ],
      "metadata": {
        "id": "7bb9BU4VqYVK"
      },
      "execution_count": null,
      "outputs": []
    },
    {
      "cell_type": "code",
      "execution_count": null,
      "metadata": {
        "colab": {
          "base_uri": "https://localhost:8080/"
        },
        "id": "8uXTlZXXpvEy",
        "outputId": "a9de105d-96ac-4193-c5f8-efc12a5eefdd"
      },
      "outputs": [
        {
          "name": "stdout",
          "output_type": "stream",
          "text": [
            "1 2 4 7\n"
          ]
        }
      ],
      "source": [
        "x = np.array(list(map(int,input().split())))  \n",
        "N = len(x)"
      ]
    },
    {
      "cell_type": "markdown",
      "source": [
        "## Calculate DCT"
      ],
      "metadata": {
        "id": "LPcZx1c00zEe"
      }
    },
    {
      "cell_type": "code",
      "source": [
        "mat = np.zeros((N, N))\n",
        "\n",
        "for i in range(N):\n",
        "  for j in range(N):\n",
        "      if i == 0:\n",
        "        mat[i][j] = np.sqrt(1/N)\n",
        "      else:\n",
        "        mat[i][j] = np.sqrt(2/N)*np.cos((np.pi*((j*2)+1)*i)/(2*N))\n",
        "print(mat)"
      ],
      "metadata": {
        "colab": {
          "base_uri": "https://localhost:8080/"
        },
        "id": "m0xOWlNc02lH",
        "outputId": "d1cceb79-9946-4b28-8f70-70aa043276be"
      },
      "execution_count": null,
      "outputs": [
        {
          "output_type": "stream",
          "name": "stdout",
          "text": [
            "[[ 0.5         0.5         0.5         0.5       ]\n",
            " [ 0.65328148  0.27059805 -0.27059805 -0.65328148]\n",
            " [ 0.5        -0.5        -0.5         0.5       ]\n",
            " [ 0.27059805 -0.65328148  0.65328148 -0.27059805]]\n"
          ]
        }
      ]
    },
    {
      "cell_type": "code",
      "source": [
        "F = np.dot(mat,x)\n",
        "F"
      ],
      "metadata": {
        "colab": {
          "base_uri": "https://localhost:8080/"
        },
        "id": "4ptZHCHH9as5",
        "outputId": "06a2dada-dcaa-4167-bdff-f45660f26e5e"
      },
      "execution_count": null,
      "outputs": [
        {
          "output_type": "execute_result",
          "data": {
            "text/plain": [
              "array([ 7.        , -4.46088499,  1.        , -0.31702534])"
            ]
          },
          "metadata": {},
          "execution_count": 65
        }
      ]
    },
    {
      "cell_type": "markdown",
      "source": [
        "## Calculate IDCT"
      ],
      "metadata": {
        "id": "6H4ZWCjF9zAw"
      }
    },
    {
      "cell_type": "code",
      "source": [
        "IDCT = []\n",
        "for i in range(N):\n",
        "  sum = 0\n",
        "  for j in range(N):\n",
        "    if i == 0:\n",
        "      sum += np.sqrt(1/N)\n",
        "    else:\n",
        "      sum += (np.sqrt(2/N)*F[j]*np.cos((np.pi*((i*2)+1)*j)/(2*N)))\n",
        "  IDCT.append(sum)\n",
        "\n",
        "IDCT"
      ],
      "metadata": {
        "colab": {
          "base_uri": "https://localhost:8080/"
        },
        "id": "-GaXtcH792sb",
        "outputId": "ff53149e-7595-49d4-ba82-1c8da7556237"
      },
      "execution_count": null,
      "outputs": [
        {
          "output_type": "execute_result",
          "data": {
            "text/plain": [
              "[2.0, 3.4497474683058336, 5.449747468305833, 8.449747468305834]"
            ]
          },
          "metadata": {},
          "execution_count": 71
        }
      ]
    }
  ]
}