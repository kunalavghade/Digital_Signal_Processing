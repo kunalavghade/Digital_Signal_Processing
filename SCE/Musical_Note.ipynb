{
  "nbformat": 4,
  "nbformat_minor": 0,
  "metadata": {
    "colab": {
      "name": "Musical Note.ipynb",
      "provenance": [],
      "mount_file_id": "1S9BJR2cjAg1k_gXxByhL7GjxgcbiPms5",
      "authorship_tag": "ABX9TyOhdEB5nAc287a/csLa/Mbx",
      "include_colab_link": true
    },
    "kernelspec": {
      "name": "python3",
      "display_name": "Python 3"
    },
    "language_info": {
      "name": "python"
    }
  },
  "cells": [
    {
      "cell_type": "markdown",
      "metadata": {
        "id": "view-in-github",
        "colab_type": "text"
      },
      "source": [
        "<a href=\"https://colab.research.google.com/github/kunalavghade/Digital_Signal_Processing/blob/main/SCE/Musical_Note.ipynb\" target=\"_parent\"><img src=\"https://colab.research.google.com/assets/colab-badge.svg\" alt=\"Open In Colab\"/></a>"
      ]
    },
    {
      "cell_type": "markdown",
      "source": [
        "# **Identify Musical note and display scale and frequency**"
      ],
      "metadata": {
        "id": "MQ2iuLZGMJPm"
      }
    },
    {
      "cell_type": "markdown",
      "source": [
        "## Import Lib"
      ],
      "metadata": {
        "id": "H7LB-wv5IDPz"
      }
    },
    {
      "cell_type": "code",
      "source": [
        "import wave\n",
        "import struct\n",
        "import os"
      ],
      "metadata": {
        "id": "9J_AThSuHh0L"
      },
      "execution_count": 10,
      "outputs": []
    },
    {
      "cell_type": "markdown",
      "source": [
        "## frequency database"
      ],
      "metadata": {
        "id": "mehZHaPbK5d5"
      }
    },
    {
      "cell_type": "code",
      "source": [
        "note=0\n",
        "name = np.array([\"C0\",\"C#0\",\"D0\",\"D#0\",\"E0\",\"F0\",\"F#0\",\"G0\",\"G#0\",\"A0\",\"A#0\",\"B0\",\"C1\",\"C#1\",\"D1\",\"D#1\",\"E1\",\"F1\",\"F#1\",\"G1\",\"G#1\",\"A1\",\"A#1\",\"B1\",\"C2\",\"C#2\",\"D2\",\"D#2\",\"E2\",\"F2\",\"F#2\",\"G2\",\"G2#\",\"A2\",\"A2#\",\"B2\",\"C3\",\"C3#\",\"D3\",\"D3#\",\"E3\",\"F3\",\"F3#\",\"G3\",\"G3#\",\"A3\",\"A3#\",\"B3\",\"C4\",\"C4#\",\"D4\",\"D4#\",\"E4\",\"F4\",\"F4#\",\"G4\",\"G4#\",\"A4\",\"A4#\",\"B4\",\"C5\",\"C5#\",\"D5\",\"D5#\",\"E5\",\"F5\",\"F5#\",\"G5\",\"G5#\",\"A5\",\"A5#\",\"B5\",\"C6\",\"C6#\",\"D6\",\"D6#\",\"E6\",\"F6\",\"F6#\",\"G6\",\"G6#\",\"A6\",\"A6#\",\"B6\",\"C7\",\"C7#\",\"D7\",\"D7#\",\"E7\",\"F7\",\"F7#\",\"G7\",\"G7#\",\"A7\",\"A7#\",\"B7\",\"C8\",\"C8#\",\"D8\",\"D8#\",\"E8\",\"F8\",\"F8#\",\"G8\",\"G8#\",\"A8\",\"A8#\",\"B8\",\"Beyond B8\"])\n",
        "frequencies = np.array([16.35,17.32,18.35,19.45,20.60,21.83,23.12,24.50,25.96\t,27.50\t,29.14\t,30.87\t,32.70\t,34.65\t,36.71\t,38.89\t,41.20\t,43.65\t,46.25\t,49.00\t,51.91\t,55.00\t,58.27\t,61.74\t,65.41\t,69.30\t,73.42\t,77.78\t,82.41\t,87.31\t,92.50\t,98.00\t,103.83\t,110.00\t,116.54\t,123.47\t,130.81\t,138.59\t,146.83\t,155.56\t,164.81\t,174.61\t,185.00\t,196.00\t,207.65\t,220.00\t,233.08\t,246.94\t,261.63\t,277.18\t,293.66\t,311.13\t,329.63\t,349.23\t,369.99\t,392.00\t,415.30\t,440.00\t,466.16\t,493.88\t,523.25\t,554.37\t,587.33\t,622.25\t,659.26\t,698.46\t,739.99\t,783.99\t,830.61\t,880.00\t,932.33\t,987.77\t,1046.50\t,1108.73\t,1174.66\t,1244.51\t,1318.51\t,1396.91\t,1479.98\t,1567.98\t,1661.22\t,1760.00\t,1864.66\t,1975.53\t,2093.00\t,2217.46\t,2349.32\t,2489.02\t,2637.02\t,2793.83\t,2959.96\t,3135.96\t,3322.44\t,3520.00\t,3729.31\t,3951.07\t,4186.01\t,4434.92\t,4698.64\t,4978.03\t,5274.04\t,5587.65\t,5919.91\t,6271.93\t,6644.88\t,7040.00\t,7458.62\t,7902.13,8000])\n",
        "\t"
      ],
      "metadata": {
        "id": "GswRSJo8K7Uc"
      },
      "execution_count": 19,
      "outputs": []
    },
    {
      "cell_type": "markdown",
      "source": [
        "## Import audio file"
      ],
      "metadata": {
        "id": "XQV0Y-KgIH-z"
      }
    },
    {
      "cell_type": "code",
      "source": [
        "path = os.getcwd()\n",
        "file_name = path + \"/drive/MyDrive/Colab Notebooks/wav files/c6.wav\"\n",
        "audio_file = wave.open(file_name)"
      ],
      "metadata": {
        "id": "tTBdb1dTHyvS"
      },
      "execution_count": 11,
      "outputs": []
    },
    {
      "cell_type": "markdown",
      "source": [
        "## Conver audio into numpy array "
      ],
      "metadata": {
        "id": "FeprvxAtISBs"
      }
    },
    {
      "cell_type": "code",
      "source": [
        "file_length = audio_file.getnframes()\n",
        "f_s = audio_file.getframerate() #sampling Freq\n",
        "sound = np.zeros(file_length) #blank array\n",
        "\n",
        "for i in range(file_length):\n",
        "  wdata=audio_file.readframes(1)\n",
        "  data=struct.unpack(\"<h\",wdata)\n",
        "  sound[i] = int(data[0])"
      ],
      "metadata": {
        "id": "om469L_WIiZE"
      },
      "execution_count": 14,
      "outputs": []
    },
    {
      "cell_type": "markdown",
      "source": [
        "## Dislay Scale of Audio"
      ],
      "metadata": {
        "id": "TSKqvAX9JNQY"
      }
    },
    {
      "cell_type": "code",
      "source": [
        "import matplotlib.pyplot as plt\n",
        "plt.plot(sound)\n",
        "plt.show()"
      ],
      "metadata": {
        "colab": {
          "base_uri": "https://localhost:8080/",
          "height": 265
        },
        "id": "A_ygdlMHJScz",
        "outputId": "f85519e1-a607-4a9c-86ff-19b20225360b"
      },
      "execution_count": 15,
      "outputs": [
        {
          "output_type": "display_data",
          "data": {
            "text/plain": [
              "<Figure size 432x288 with 1 Axes>"
            ],
            "image/png": "[encoded data removed]"
          },
          "metadata": {
            "needs_background": "light"
          }
        }
      ]
    },
    {
      "cell_type": "markdown",
      "source": [
        "## Scaling to 0-1"
      ],
      "metadata": {
        "id": "WVUWQbsuJt5F"
      }
    },
    {
      "cell_type": "code",
      "source": [
        "sound=np.divide(sound,float(2**15))\n",
        "counter = audio_file.getnchannels() #number of channels mono/sterio\n",
        "plt.plot(sound)\n",
        "plt.show()"
      ],
      "metadata": {
        "colab": {
          "base_uri": "https://localhost:8080/",
          "height": 265
        },
        "id": "lgdZH23JJoJ4",
        "outputId": "3d8fbbdb-4d4b-42a5-bc6f-d3d9000aec48"
      },
      "execution_count": 16,
      "outputs": [
        {
          "output_type": "display_data",
          "data": {
            "text/plain": [
              "<Figure size 432x288 with 1 Axes>"
            ],
            "image/png": "[encoded data removed]"
          },
          "metadata": {
            "needs_background": "light"
          }
        }
      ]
    },
    {
      "cell_type": "markdown",
      "source": [
        "## Frequecy Speactrum of signal"
      ],
      "metadata": {
        "id": "SdYv_pXoKAUU"
      }
    },
    {
      "cell_type": "code",
      "source": [
        "fourier = np.fft.fft(sound)\n",
        "fourier = np.absolute(fourier)\n",
        "imax=np.argmax(fourier[0:int(file_length/2)]) #index of max element\n",
        "\t\t\n",
        "plt.plot(fourier)\n",
        "plt.show()"
      ],
      "metadata": {
        "colab": {
          "base_uri": "https://localhost:8080/",
          "height": 265
        },
        "id": "gWCmTEEdJiyf",
        "outputId": "3f3e40c0-9b85-4a95-d70c-03f8ba9e7c0f"
      },
      "execution_count": 17,
      "outputs": [
        {
          "output_type": "display_data",
          "data": {
            "text/plain": [
              "<Figure size 432x288 with 1 Axes>"
            ],
            "image/png": "[encoded data removed]"
          },
          "metadata": {
            "needs_background": "light"
          }
        }
      ]
    },
    {
      "cell_type": "markdown",
      "source": [
        "## Peak Detection"
      ],
      "metadata": {
        "id": "OPla8IMjKcxA"
      }
    },
    {
      "cell_type": "code",
      "source": [
        "i_begin = -1\n",
        "threshold = 0.3 * fourier[imax]\n",
        "for i in range (0,imax+100):\n",
        "\tif fourier[i] >= threshold:\n",
        "\t\tif(i_begin==-1):\n",
        "\t\t\ti_begin = i\t\t\t\t\n",
        "\tif(i_begin!=-1 and fourier[i]<threshold):\n",
        "\t\tbreak\n",
        "i_end = i\n",
        "imax = np.argmax(fourier[0:i_end+100])\n",
        "\t\n",
        "freq=(imax*f_s)/(file_length*counter)"
      ],
      "metadata": {
        "id": "fb3b22BAKgtE"
      },
      "execution_count": 18,
      "outputs": []
    },
    {
      "cell_type": "markdown",
      "source": [
        "## searching for matched frequencies"
      ],
      "metadata": {
        "id": "Z-ZoOt45LG_J"
      }
    },
    {
      "cell_type": "code",
      "source": [
        "for i in range(0,frequencies.size-1):\n",
        "\t\tif(freq<frequencies[0]):\n",
        "\t\t\tnote=name[0]\n",
        "\t\t\tbreak\n",
        "\t\tif(freq>frequencies[-1]):\n",
        "\t\t\tnote=name[-1]\n",
        "\t\t\tbreak\n",
        "\t\tif freq>=frequencies[i] and frequencies[i+1]>=freq :\n",
        "\t\t\tif freq-frequencies[i]<(frequencies[i+1]-frequencies[i])/2 :\n",
        "\t\t\t\tnote=name[i]\n",
        "\t\t\telse :\n",
        "\t\t\t\tnote=name[i+1]\n",
        "\t\t\tbreak\t\t"
      ],
      "metadata": {
        "id": "25RQdF-9LJfD"
      },
      "execution_count": 20,
      "outputs": []
    },
    {
      "cell_type": "code",
      "source": [
        "print(\"Detected Note = \" + str(note))"
      ],
      "metadata": {
        "colab": {
          "base_uri": "https://localhost:8080/"
        },
        "id": "hDageDd3Lch3",
        "outputId": "f521c594-b3c7-4e77-b0af-8dca8f09e649"
      },
      "execution_count": 22,
      "outputs": [
        {
          "output_type": "stream",
          "name": "stdout",
          "text": [
            "Detected Note = C6\n"
          ]
        }
      ]
    }
  ]
}